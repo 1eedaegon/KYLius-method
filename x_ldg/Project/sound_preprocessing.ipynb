{
 "cells": [
  {
   "cell_type": "code",
   "execution_count": 26,
   "metadata": {},
   "outputs": [
    {
     "data": {
      "text/plain": [
       "array([[-4.52890081e+02, -4.56222687e+02, -4.66719986e+02, ...,\n",
       "        -3.16716329e+02, -3.14714728e+02, -3.51715271e+02],\n",
       "       [ 1.09764818e+02,  1.10151123e+02,  1.02906970e+02, ...,\n",
       "         1.76346687e+02,  1.71322634e+02,  1.69911369e+02],\n",
       "       [-1.02775166e+02, -1.07260834e+02, -1.04937068e+02, ...,\n",
       "        -1.40038156e+02, -1.38895233e+02, -1.14569420e+02],\n",
       "       ...,\n",
       "       [-6.73978383e-01, -4.52522730e+00, -6.75935167e+00, ...,\n",
       "         1.54524589e+01,  1.79918237e+01,  1.24936325e+01],\n",
       "       [ 3.46630530e+00,  4.33823578e+00,  3.81609180e+00, ...,\n",
       "         2.29620594e+01,  1.63315878e+01,  7.16992160e+00],\n",
       "       [ 2.57866977e-01,  2.86196174e+00,  2.20079275e+00, ...,\n",
       "         1.28499487e+01,  1.98989673e+00, -1.72018730e+00]])"
      ]
     },
     "execution_count": 26,
     "metadata": {},
     "output_type": "execute_result"
    }
   ],
   "source": [
    "import librosa as lb\n",
    "import pandas as pd\n",
    "import numpy as np\n",
    "from sklearn.model_selection import train_test_split\n",
    "location = \"D:/dnn_data/\"\n",
    "duration = 2\n",
    "sampling_rate = 44100\n",
    "total_length = duration * sampling_rate\n",
    "\n",
    "# 데이터 추출(chroma, mfcc)\n",
    "def featureExtract(file_location):\n",
    "    #샘플링된 주파수 로드\n",
    "    data, sr = lb.core.load(file_location, sr=sampling_rate, mono=True, res_type=\"kaiser_fast\") \n",
    "    # 파일이 일정이상 커지면 그 뒤 값은 모두 랜덤\n",
    "    if len(data)> total_length:\n",
    "        max_offset = len(data) - total_length\n",
    "        offset = np.random.randint(max_offset)\n",
    "        data = data[offset:(total_length+offset)]\n",
    "    else:\n",
    "        if total_length > len(data):\n",
    "            max_offset = total_length - len(data)\n",
    "            offset = np.random.randint(max_offset)\n",
    "        else:\n",
    "            offset = 0\n",
    "        data = np.pad(data, (offset, total_length - len(data) - offset), \"constant\")\n",
    "        \n",
    "    data = np.mean(lb.feature.chroma_stft(data, sr=sampling_rate, n_chroma=40),axis=1)\n",
    "    # mfcc = np.mean(lb.feature.mfcc(data, sr=sampling_rate n_mfcc=40).T,axis=0)\n",
    "    # return chroma_stft,mfcc\n",
    "    return data\n",
    "\n",
    "#데이터 로드\n",
    "train = pd.read_csv(location+\"audio_train.csv\")\n",
    "\n",
    "#인덱스 설정(label에 각각 숫자부여)\n",
    "label_index = pd.DataFrame(columns=(\"labeled_num\",\"label\"))\n",
    "label_index[\"labeled_num\"] = range(len(train[\"label\"].unique()))\n",
    "label_index[\"label\"] = train['label'].unique()\n",
    "train=pd.merge(train, label_index, how=\"left\")\n",
    "\n",
    "# 숫자와 파일이름 빼고 제거\n",
    "train = train.drop(['label','manually_verified'],axis=1)\n",
    "trainFname = train.values[:,0]\n",
    "\n",
    "#chroma_data 초기화\n",
    "rows=len(train)\n",
    "chroma_data = np.zeros((rows,41))\n"
   ]
  },
  {
   "cell_type": "code",
   "execution_count": 7,
   "metadata": {
    "scrolled": true
   },
   "outputs": [
    {
     "name": "stderr",
     "output_type": "stream",
     "text": [
      "C:\\ProgramData\\Anaconda3\\lib\\site-packages\\librosa\\core\\pitch.py:145: UserWarning: Trying to estimate tuning from empty frequency set.\n",
      "  warnings.warn('Trying to estimate tuning from empty frequency set.')\n"
     ]
    }
   ],
   "source": [
    "\n",
    "# 데이터 전체 chroma-stft\n",
    "i=0\n",
    "for fname in trainFname:\n",
    "    labeled_num=train.loc[train['fname']==fname,\"labeled_num\"]\n",
    "    chroma_data[i] = np.hstack([labeled_num,featureExtract(location+\"/audio_train/\"+fname)])\n",
    "    i+=1\n"
   ]
  },
  {
   "cell_type": "code",
   "execution_count": 29,
   "metadata": {},
   "outputs": [
    {
     "data": {
      "text/plain": [
       "array([[0., 0., 0., ..., 0., 0., 0.],\n",
       "       [0., 0., 0., ..., 0., 0., 0.],\n",
       "       [0., 0., 0., ..., 0., 0., 0.],\n",
       "       ...,\n",
       "       [0., 0., 0., ..., 0., 0., 0.],\n",
       "       [0., 0., 0., ..., 0., 0., 0.],\n",
       "       [0., 0., 0., ..., 0., 0., 0.]])"
      ]
     },
     "execution_count": 29,
     "metadata": {},
     "output_type": "execute_result"
    }
   ],
   "source": [
    "# train, test 데이터 분리\n",
    "train_set, test_set = train_test_split(chroma_data, test_size=0.3)\n",
    "\n",
    "\"\"\"\n",
    "train_label = train_set.values[:,1]\n",
    "test_label = test_set.values[:,1]\n",
    "train.head()\n",
    "\"\"\"\n",
    "train_set"
   ]
  },
  {
   "cell_type": "code",
   "execution_count": 15,
   "metadata": {},
   "outputs": [
    {
     "data": {
      "text/plain": [
       "array([[ 5.        ,  0.6623496 ,  0.63130314, ...,  0.76465069,\n",
       "         0.73147868,  0.69762005],\n",
       "       [23.        ,  0.33043352,  0.35030964, ...,  0.44970445,\n",
       "         0.44460435,  0.3622034 ],\n",
       "       [21.        ,  0.65610325,  0.68185873, ...,  0.67387157,\n",
       "         0.66327612,  0.66089417],\n",
       "       ...,\n",
       "       [13.        ,  0.54429821,  0.52198626, ...,  0.54383328,\n",
       "         0.55144017,  0.54626469],\n",
       "       [ 4.        ,  0.19783503,  0.22793309, ...,  0.1580327 ,\n",
       "         0.17532297,  0.18381838],\n",
       "       [ 2.        ,  0.42361788,  0.40207798, ...,  0.55458859,\n",
       "         0.51958872,  0.4757151 ]])"
      ]
     },
     "execution_count": 15,
     "metadata": {},
     "output_type": "execute_result"
    }
   ],
   "source": [
    "# convoiution\n"
   ]
  }
 ],
 "metadata": {
  "kernelspec": {
   "display_name": "Python 3",
   "language": "python",
   "name": "python3"
  },
  "language_info": {
   "codemirror_mode": {
    "name": "ipython",
    "version": 3
   },
   "file_extension": ".py",
   "mimetype": "text/x-python",
   "name": "python",
   "nbconvert_exporter": "python",
   "pygments_lexer": "ipython3",
   "version": "3.6.4"
  }
 },
 "nbformat": 4,
 "nbformat_minor": 2
}
